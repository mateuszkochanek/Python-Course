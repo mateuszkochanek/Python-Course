{
 "cells": [
  {
   "cell_type": "markdown",
   "metadata": {},
   "source": [
    "# Wykład 12: Projektowanie sieci ConvNet\n",
    "\n",
    "Na tym wykładzie zaprojektujemy sami sieci ConvNet i prostymi zastosowaniami\n",
    "\n",
    "Zobaczymy także trzy różne metody definiowania modeli w Kerasie:\n",
    "\n",
    "- Sekewncyjny (Sequential)\n",
    "- Funcjonalny (Functional)\n",
    "- Zorientowany obietkowo (Object-Oriented)\n",
    "\n",
    "Uwaga: Celem tego wykładu nie jest porównanie wydajności, ale tylko samych architektur"
   ]
  },
  {
   "cell_type": "markdown",
   "metadata": {},
   "source": [
    "### Wczytywanie danych (MNIST)"
   ]
  },
  {
   "cell_type": "code",
   "execution_count": 2,
   "metadata": {},
   "outputs": [
    {
     "data": {
      "text/plain": [
       "(((50000, 28, 28, 1), (50000,)),\n",
       " ((10000, 28, 28, 1), (10000,)),\n",
       " ((10000, 28, 28, 1), (10000,)))"
      ]
     },
     "execution_count": 2,
     "metadata": {},
     "output_type": "execute_result"
    }
   ],
   "source": [
    "from tensorflow.keras import datasets\n",
    "from sklearn.model_selection import train_test_split\n",
    "\n",
    "(x_train, y_train), (x_test, y_test) = datasets.mnist.load_data()\n",
    "h, w = x_train.shape[1:]\n",
    "\n",
    "x_train = x_train.reshape(x_train.shape[0], h, w, 1)\n",
    "x_test = x_test.reshape(x_test.shape[0], h, w, 1)\n",
    "input_shape = (h, w, 1)\n",
    "\n",
    "x_train = x_train.astype('float32')\n",
    "x_test = x_test.astype('float32')\n",
    "x_train /= 255\n",
    "x_test /= 255\n",
    "\n",
    "x_train, x_val, y_train, y_val = train_test_split(\n",
    "    x_train, y_train, test_size=10000, random_state=42)\n",
    "\n",
    "(x_train.shape, y_train.shape), (x_val.shape, y_val.shape), (x_test.shape, y_test.shape)"
   ]
  },
  {
   "cell_type": "code",
   "execution_count": 3,
   "metadata": {},
   "outputs": [
    {
     "data": {
      "image/png": "[encoded data removed]",
      "text/plain": [
       "<Figure size 432x288 with 1 Axes>"
      ]
     },
     "metadata": {
      "needs_background": "light"
     },
     "output_type": "display_data"
    }
   ],
   "source": [
    "import matplotlib.pyplot as plt\n",
    "\n",
    "plt.imshow(x_train[0].squeeze(-1))\n",
    "plt.title(y_train[0]);"
   ]
  },
  {
   "cell_type": "code",
   "execution_count": 4,
   "metadata": {},
   "outputs": [
    {
     "name": "stdout",
     "output_type": "stream",
     "text": [
      "[0 1 2 3 4 5 6 7 8 9] unique labels.\n"
     ]
    }
   ],
   "source": [
    "import numpy as np\n",
    "\n",
    "print(\"{} unique labels.\".format(np.unique(y_train)))"
   ]
  },
  {
   "cell_type": "markdown",
   "metadata": {},
   "source": [
    "## 1. LeNet\n",
    "\n",
    "Na początku zdefiniujemy klasyczny model LeNet-5 wprowadzony przez Yann Le Cun in 1998 ([url](http://yann.lecun.com/exdb/publis/pdf/lecun-01a.pdf)). Model jest na tyle prosty, że możemy go łatwo zdefiniować z wykorzystaniem **Sequential** API.\n",
    "\n",
    "![lenet archi](images/lenet.png)"
   ]
  },
  {
   "cell_type": "code",
   "execution_count": 5,
   "metadata": {},
   "outputs": [
    {
     "name": "stdout",
     "output_type": "stream",
     "text": [
      "Model: \"LeNet-5\"\n",
      "_________________________________________________________________\n",
      "Layer (type)                 Output Shape              Param #   \n",
      "=================================================================\n",
      "C1 (Conv2D)                  (None, 28, 28, 6)         156       \n",
      "_________________________________________________________________\n",
      "S2 (MaxPooling2D)            (None, 14, 14, 6)         0         \n",
      "_________________________________________________________________\n",
      "C3 (Conv2D)                  (None, 10, 10, 16)        2416      \n",
      "_________________________________________________________________\n",
      "S4 (AveragePooling2D)        (None, 5, 5, 16)          0         \n",
      "_________________________________________________________________\n",
      "C5 (Conv2D)                  (None, 1, 1, 120)         48120     \n",
      "_________________________________________________________________\n",
      "flatten (Flatten)            (None, 120)               0         \n",
      "_________________________________________________________________\n",
      "F6 (Dense)                   (None, 84)                10164     \n",
      "_________________________________________________________________\n",
      "dense (Dense)                (None, 10)                850       \n",
      "=================================================================\n",
      "Total params: 61,706\n",
      "Trainable params: 61,706\n",
      "Non-trainable params: 0\n",
      "_________________________________________________________________\n"
     ]
    }
   ],
   "source": [
    "from tensorflow.keras.models import Sequential\n",
    "from tensorflow.keras.layers import Conv2D, AvgPool2D, MaxPool2D, Dense, Flatten\n",
    "from tensorflow.keras import optimizers\n",
    "\n",
    "lenet = Sequential(name=\"LeNet-5\")\n",
    "\n",
    "lenet.add(Conv2D(6, kernel_size=(5, 5), activation=\"tanh\", padding=\"same\", input_shape=input_shape, name=\"C1\"))\n",
    "lenet.add(MaxPool2D(pool_size=(2, 2), name=\"S2\"))\n",
    "lenet.add(Conv2D(16, kernel_size=(5, 5), activation='tanh', name=\"C3\"))\n",
    "lenet.add(AvgPool2D(pool_size=(2, 2), name=\"S4\"))\n",
    "lenet.add(Conv2D(120, kernel_size=(5, 5), activation='tanh', name=\"C5\"))\n",
    "lenet.add(Flatten())\n",
    "lenet.add(Dense(84, activation='tanh', name=\"F6\"))\n",
    "lenet.add(Dense(10, activation='softmax'))\n",
    "\n",
    "lenet.summary()"
   ]
  },
  {
   "cell_type": "code",
   "execution_count": 6,
   "metadata": {},
   "outputs": [
    {
     "name": "stdout",
     "output_type": "stream",
     "text": [
      "Epoch 1/5\n",
      "196/196 [==============================] - 11s 54ms/step - loss: 0.6170 - accuracy: 0.8386 - val_loss: 0.3270 - val_accuracy: 0.9004\n",
      "Epoch 2/5\n",
      "196/196 [==============================] - 11s 54ms/step - loss: 0.2466 - accuracy: 0.9275 - val_loss: 0.2115 - val_accuracy: 0.9350\n",
      "Epoch 3/5\n",
      "196/196 [==============================] - 10s 53ms/step - loss: 0.1711 - accuracy: 0.9504 - val_loss: 0.1439 - val_accuracy: 0.9577\n",
      "Epoch 4/5\n",
      "196/196 [==============================] - 11s 57ms/step - loss: 0.1300 - accuracy: 0.9616 - val_loss: 0.1118 - val_accuracy: 0.9693\n",
      "Epoch 5/5\n",
      "196/196 [==============================] - 12s 63ms/step - loss: 0.1059 - accuracy: 0.9688 - val_loss: 0.0963 - val_accuracy: 0.9731\n"
     ]
    },
    {
     "data": {
      "text/plain": [
       "<tensorflow.python.keras.callbacks.History at 0x7f6be82061d0>"
      ]
     },
     "execution_count": 6,
     "metadata": {},
     "output_type": "execute_result"
    }
   ],
   "source": [
    "n_epochs = 5\n",
    "batch_size = 256\n",
    "\n",
    "lenet.compile(\n",
    "    optimizer=optimizers.SGD(lr=0.1),\n",
    "    loss=\"sparse_categorical_crossentropy\",\n",
    "    metrics=[\"accuracy\"]\n",
    ")\n",
    "\n",
    "lenet.fit(\n",
    "    x_train, y_train,\n",
    "    epochs=n_epochs,\n",
    "    batch_size=batch_size,\n",
    "    validation_data=(x_val, y_val)\n",
    ")"
   ]
  },
  {
   "cell_type": "code",
   "execution_count": 7,
   "metadata": {},
   "outputs": [
    {
     "name": "stdout",
     "output_type": "stream",
     "text": [
      "313/313 [==============================] - 2s 7ms/step - loss: 0.0900 - accuracy: 0.9723\n"
     ]
    },
    {
     "data": {
      "text/plain": [
       "[0.09002140164375305, 0.9722999930381775]"
      ]
     },
     "execution_count": 7,
     "metadata": {},
     "output_type": "execute_result"
    }
   ],
   "source": [
    "lenet.evaluate(x_test, y_test, verbose=1)"
   ]
  },
  {
   "cell_type": "markdown",
   "metadata": {},
   "source": [
    "Uwaga: LeNet został na początku zdefiniowany z wykorzystaniem funkcji aktywacji `tanh` lub `sigmoid`, aktualnie\n",
    "te funkcje aktywacji są rzadko używane. Można pokazać, że obie funkcje \"nasycają się\" (saturate)\n",
    "dla bardzo małych i bardzo dużych wartości co powoduje \"zanik\" gradientu.\n",
    "\n",
    "Dlatego aktualnie większość sieci wykorzystuje `ReLU` w warstwach ukrytych lub inne o podobnych własnościach\n",
    "(https://keras.io/layers/advanced-activations/).\n"
   ]
  },
  {
   "cell_type": "markdown",
   "metadata": {},
   "source": [
    "## 2. Inception\n",
    "\n",
    "Model \"Inception\" został wprowadzony w 2014 przez Szegedy et al. ([paper url](https://arxiv.org/abs/1409.4842)).\n",
    "\n",
    "Konwolucje mają efektywne \"pole chłonności\" (receptive field): im większe \"kernels\" i im głębszy (deeper) model, tym więcej pikseli obrazu *zobaczymy*. Dobrze wyjaśnienia to: [medium blog](https://medium.com/mlreview/a-guide-to-receptive-field-arithmetic-for-convolutional-neural-networks-e0f514068807).\n",
    "\n",
    "W modelu tym, różne \"convolution kernels\" są ze sobą łączone. Mniejsze \"kernels\" wykorzystywane są do mniejszych\n",
    "klastrów cech (można myśleć o tym jak o detalach np. oko), podchas duże \"kernels\" dla większych kastrów cech\n",
    "(np. twarz)\n",
    "\n",
    "![inception archi](images/inception.png)\n",
    "\n",
    "Tym razem wykorzystamy **Functional** API  do zdefiniowania pojedynczej warstwy \"Inception layer\"\n",
    "\n",
    "Przykład:\n",
    "\n",
    "```python\n",
    "a = Input(shape=(32,))\n",
    "b = Dense(32)(a)\n",
    "model = Model(inputs=a, outputs=b)\n",
    "```"
   ]
  },
  {
   "cell_type": "code",
   "execution_count": 8,
   "metadata": {},
   "outputs": [
    {
     "name": "stdout",
     "output_type": "stream",
     "text": [
      "Model: \"model\"\n",
      "__________________________________________________________________________________________________\n",
      "Layer (type)                    Output Shape         Param #     Connected to                     \n",
      "==================================================================================================\n",
      "input_1 (InputLayer)            [(None, 28, 28, 1)]  0                                            \n",
      "__________________________________________________________________________________________________\n",
      "conv2d (Conv2D)                 (None, 28, 28, 16)   416         input_1[0][0]                    \n",
      "__________________________________________________________________________________________________\n",
      "conv2d_1 (Conv2D)               (None, 28, 28, 32)   544         conv2d[0][0]                     \n",
      "__________________________________________________________________________________________________\n",
      "conv2d_2 (Conv2D)               (None, 28, 28, 32)   12832       conv2d[0][0]                     \n",
      "__________________________________________________________________________________________________\n",
      "conv2d_3 (Conv2D)               (None, 28, 28, 32)   4640        conv2d[0][0]                     \n",
      "__________________________________________________________________________________________________\n",
      "max_pooling2d (MaxPooling2D)    (None, 28, 28, 16)   0           conv2d[0][0]                     \n",
      "__________________________________________________________________________________________________\n",
      "concatenate (Concatenate)       (None, 28, 28, 112)  0           conv2d_1[0][0]                   \n",
      "                                                                 conv2d_2[0][0]                   \n",
      "                                                                 conv2d_3[0][0]                   \n",
      "                                                                 max_pooling2d[0][0]              \n",
      "__________________________________________________________________________________________________\n",
      "flatten_1 (Flatten)             (None, 87808)        0           concatenate[0][0]                \n",
      "__________________________________________________________________________________________________\n",
      "dense_1 (Dense)                 (None, 10)           878090      flatten_1[0][0]                  \n",
      "==================================================================================================\n",
      "Total params: 896,522\n",
      "Trainable params: 896,522\n",
      "Non-trainable params: 0\n",
      "__________________________________________________________________________________________________\n"
     ]
    }
   ],
   "source": [
    "from tensorflow.keras.layers import Concatenate, Input\n",
    "from tensorflow.keras.models import Model\n",
    "\n",
    "from tensorflow.keras.layers import Concatenate, Input\n",
    "from tensorflow.keras.models import Model\n",
    "\n",
    "\n",
    "def inception_layer(tensor, n_filters):\n",
    "    branch1x1 = Conv2D(n_filters, kernel_size=(1, 1), activation=\"relu\", padding=\"same\")(tensor)\n",
    "    branch5x5 = Conv2D(n_filters, kernel_size=(5, 5), activation=\"relu\", padding=\"same\")(tensor)\n",
    "    branch3x3 = Conv2D(n_filters, kernel_size=(3, 3), activation=\"relu\", padding=\"same\")(tensor)\n",
    "\n",
    "    branch_pool = MaxPool2D(pool_size=(3, 3), strides=(1, 1), padding=\"same\")(tensor)\n",
    "\n",
    "    output = Concatenate(axis=-1)(\n",
    "        [branch1x1, branch5x5, branch3x3, branch_pool]\n",
    "    )\n",
    "    return output\n",
    "\n",
    "\n",
    "input_tensor = Input(shape=input_shape)\n",
    "x = Conv2D(16, kernel_size=(5, 5), padding=\"same\")(input_tensor)\n",
    "x = inception_layer(x, 32)\n",
    "x = Flatten()(x)\n",
    "output_tensor = Dense(10, activation=\"softmax\")(x)\n",
    "\n",
    "mini_inception = Model(inputs=input_tensor, outputs=output_tensor)\n",
    "\n",
    "mini_inception.summary()"
   ]
  },
  {
   "cell_type": "code",
   "execution_count": 9,
   "metadata": {},
   "outputs": [
    {
     "name": "stdout",
     "output_type": "stream",
     "text": [
      "Epoch 1/5\n",
      "196/196 [==============================] - 90s 461ms/step - loss: 0.3232 - accuracy: 0.9032 - val_loss: 0.1722 - val_accuracy: 0.9467\n",
      "Epoch 2/5\n",
      "196/196 [==============================] - 83s 423ms/step - loss: 0.1115 - accuracy: 0.9687 - val_loss: 0.1655 - val_accuracy: 0.9479\n",
      "Epoch 3/5\n",
      "196/196 [==============================] - 83s 424ms/step - loss: 0.0717 - accuracy: 0.9792 - val_loss: 0.0739 - val_accuracy: 0.9773\n",
      "Epoch 4/5\n",
      "196/196 [==============================] - 83s 424ms/step - loss: 0.0578 - accuracy: 0.9818 - val_loss: 0.0704 - val_accuracy: 0.9798\n",
      "Epoch 5/5\n",
      "196/196 [==============================] - 83s 426ms/step - loss: 0.0485 - accuracy: 0.9852 - val_loss: 0.0590 - val_accuracy: 0.9825\n"
     ]
    },
    {
     "data": {
      "text/plain": [
       "<tensorflow.python.keras.callbacks.History at 0x7f6ba47230b8>"
      ]
     },
     "execution_count": 9,
     "metadata": {},
     "output_type": "execute_result"
    }
   ],
   "source": [
    "n_epochs = 5\n",
    "batch_size = 256\n",
    "\n",
    "mini_inception.compile(\n",
    "    optimizer=optimizers.SGD(lr=0.1),\n",
    "    loss=\"sparse_categorical_crossentropy\",\n",
    "    metrics=[\"accuracy\"]\n",
    ")\n",
    "\n",
    "mini_inception.fit(\n",
    "    x_train, y_train,\n",
    "    epochs=n_epochs,\n",
    "    batch_size=batch_size,\n",
    "    validation_data=(x_val, y_val)\n",
    ")"
   ]
  },
  {
   "cell_type": "code",
   "execution_count": 10,
   "metadata": {},
   "outputs": [
    {
     "name": "stdout",
     "output_type": "stream",
     "text": [
      "313/313 [==============================] - 5s 15ms/step - loss: 0.0467 - accuracy: 0.9843\n"
     ]
    },
    {
     "data": {
      "text/plain": [
       "[0.04670601338148117, 0.9843000173568726]"
      ]
     },
     "execution_count": 10,
     "metadata": {},
     "output_type": "execute_result"
    }
   ],
   "source": [
    "mini_inception.evaluate(x_test, y_test, verbose=1)"
   ]
  },
  {
   "cell_type": "markdown",
   "metadata": {},
   "source": [
    "## 3. ResNet\n",
    "\n",
    "ResNet (*Residual Networks*) model został wprowadzony przez He et al. in 2015 ([paper url](https://arxiv.org/abs/1512.03385)). Autorzy pracy zauważyli, że więcej warstw znacznie poprawia wydajność sieci, niestety\n",
    "bardzo trudno uczyć takie sieci (backpropagate the gradients).\n",
    "\n",
    "Trik który pozwalał uczyć takie sieci umożliwiając łatwiejszy \"przepływ\" gradientu polega na wprowadzeniu skrótów\n",
    "\n",
    "![resnet archi](images/resnet.png)\n",
    "\n",
    "Tym razem wykorzystamy **Oriented-Object** API:\n",
    "\n",
    "Przykład:\n",
    "```python\n",
    "class MyModel(Model):\n",
    "    def __init__(self):\n",
    "        self.classifier = Dense(10, activation=\"softmax\")\n",
    "        \n",
    "    def call(self, inputs):\n",
    "        return self.classifier(inputs)\n",
    "```"
   ]
  },
  {
   "cell_type": "code",
   "execution_count": 11,
   "metadata": {},
   "outputs": [
    {
     "name": "stdout",
     "output_type": "stream",
     "text": [
      "Model: \"mini_res_net\"\n",
      "_________________________________________________________________\n",
      "Layer (type)                 Output Shape              Param #   \n",
      "=================================================================\n",
      "conv2d_4 (Conv2D)            multiple                  832       \n",
      "_________________________________________________________________\n",
      "ResidualBlock (ResidualBlock multiple                  18496     \n",
      "_________________________________________________________________\n",
      "flatten_2 (Flatten)          multiple                  0         \n",
      "_________________________________________________________________\n",
      "dense_2 (Dense)              multiple                  250890    \n",
      "=================================================================\n",
      "Total params: 270,218\n",
      "Trainable params: 270,218\n",
      "Non-trainable params: 0\n",
      "_________________________________________________________________\n"
     ]
    }
   ],
   "source": [
    "from tensorflow.keras.layers import Add, Layer, Activation\n",
    "\n",
    "\n",
    "class ResidualBlock(Layer):\n",
    "    def __init__(self, n_filters):\n",
    "        super().__init__(name=\"ResidualBlock\")\n",
    "\n",
    "        self.conv1 = Conv2D(n_filters, kernel_size=(3, 3), activation=\"relu\", padding=\"same\")\n",
    "        self.conv2 = Conv2D(n_filters, kernel_size=(3, 3), padding=\"same\")\n",
    "        self.add = Add()\n",
    "        self.last_relu = Activation(\"relu\")\n",
    "\n",
    "    def call(self, inputs):\n",
    "        x = self.conv1(inputs)\n",
    "        x = self.conv2(inputs)\n",
    "\n",
    "        y = self.add([x, inputs])\n",
    "        y = self.last_relu(y)\n",
    "\n",
    "        return y\n",
    "\n",
    "\n",
    "class MiniResNet(Model):\n",
    "    def __init__(self, n_filters):\n",
    "        super().__init__()\n",
    "\n",
    "        self.conv = Conv2D(n_filters, kernel_size=(5, 5), padding=\"same\")\n",
    "        self.block = ResidualBlock(n_filters)\n",
    "        self.flatten = Flatten()\n",
    "        self.classifier = Dense(10, activation=\"softmax\")\n",
    "\n",
    "    def call(self, inputs):\n",
    "        x = self.conv(inputs)\n",
    "        x = self.block(x)\n",
    "        x = self.flatten(x)\n",
    "        y = self.classifier(x)\n",
    "\n",
    "        return y\n",
    "\n",
    "\n",
    "mini_resnet = MiniResNet(32)\n",
    "mini_resnet.build((None, *input_shape))\n",
    "mini_resnet.summary()\n"
   ]
  },
  {
   "cell_type": "code",
   "execution_count": 12,
   "metadata": {},
   "outputs": [
    {
     "name": "stdout",
     "output_type": "stream",
     "text": [
      "Epoch 1/5\n",
      "WARNING:tensorflow:Gradients do not exist for variables ['ResidualBlock/conv2d_5/kernel:0', 'ResidualBlock/conv2d_5/bias:0'] when minimizing the loss.\n",
      "WARNING:tensorflow:Gradients do not exist for variables ['ResidualBlock/conv2d_5/kernel:0', 'ResidualBlock/conv2d_5/bias:0'] when minimizing the loss.\n",
      "WARNING:tensorflow:Gradients do not exist for variables ['ResidualBlock/conv2d_5/kernel:0', 'ResidualBlock/conv2d_5/bias:0'] when minimizing the loss.\n",
      "WARNING:tensorflow:Gradients do not exist for variables ['ResidualBlock/conv2d_5/kernel:0', 'ResidualBlock/conv2d_5/bias:0'] when minimizing the loss.\n",
      "196/196 [==============================] - 40s 205ms/step - loss: 0.3430 - accuracy: 0.9022 - val_loss: 0.1386 - val_accuracy: 0.9593\n",
      "Epoch 2/5\n",
      "196/196 [==============================] - 39s 200ms/step - loss: 0.1127 - accuracy: 0.9668 - val_loss: 0.1022 - val_accuracy: 0.9687\n",
      "Epoch 3/5\n",
      "196/196 [==============================] - 39s 199ms/step - loss: 0.0848 - accuracy: 0.9742 - val_loss: 0.0996 - val_accuracy: 0.9697\n",
      "Epoch 4/5\n",
      "196/196 [==============================] - 39s 199ms/step - loss: 0.0698 - accuracy: 0.9794 - val_loss: 0.0746 - val_accuracy: 0.9780\n",
      "Epoch 5/5\n",
      "196/196 [==============================] - 39s 199ms/step - loss: 0.0602 - accuracy: 0.9811 - val_loss: 0.0786 - val_accuracy: 0.9768\n"
     ]
    },
    {
     "data": {
      "text/plain": [
       "<tensorflow.python.keras.callbacks.History at 0x7f6bec02e6d8>"
      ]
     },
     "execution_count": 12,
     "metadata": {},
     "output_type": "execute_result"
    }
   ],
   "source": [
    "n_epochs = 5\n",
    "batch_size = 256\n",
    "\n",
    "mini_resnet.compile(\n",
    "    optimizer=optimizers.SGD(lr=0.1),\n",
    "    loss=\"sparse_categorical_crossentropy\",\n",
    "    metrics=[\"accuracy\"]\n",
    ")\n",
    "\n",
    "mini_resnet.fit(\n",
    "    x_train, y_train,\n",
    "    epochs=n_epochs,\n",
    "    batch_size=batch_size,\n",
    "    validation_data=(x_val, y_val)\n",
    ")"
   ]
  },
  {
   "cell_type": "code",
   "execution_count": 13,
   "metadata": {},
   "outputs": [
    {
     "name": "stdout",
     "output_type": "stream",
     "text": [
      "313/313 [==============================] - 2s 7ms/step - loss: 0.0677 - accuracy: 0.9784\n"
     ]
    },
    {
     "data": {
      "text/plain": [
       "[0.06772437691688538, 0.9783999919891357]"
      ]
     },
     "execution_count": 13,
     "metadata": {},
     "output_type": "execute_result"
    }
   ],
   "source": [
    "mini_resnet.evaluate(x_test, y_test, verbose=1)"
   ]
  }
 ],
 "metadata": {
  "kernelspec": {
   "display_name": "Python 3",
   "language": "python",
   "name": "python3"
  },
  "language_info": {
   "codemirror_mode": {
    "name": "ipython",
    "version": 3
   },
   "file_extension": ".py",
   "mimetype": "text/x-python",
   "name": "python",
   "nbconvert_exporter": "python",
   "pygments_lexer": "ipython3",
   "version": "3.6.9"
  }
 },
 "nbformat": 4,
 "nbformat_minor": 2
}
