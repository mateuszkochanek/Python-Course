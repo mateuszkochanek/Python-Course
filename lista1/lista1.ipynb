{
 "cells": [
  {
   "cell_type": "markdown",
   "metadata": {},
   "source": [
    "# Lista 1\n",
    "\n",
    "## Kurs wybranego języka programowania (Python)\n",
    "\n",
    "Wszystkie rozwiązania proszę wpisać w tym notatniku poniżej treści zadań. Zadania z `*` to zadania dodatkowe."
   ]
  },
  {
   "cell_type": "markdown",
   "metadata": {},
   "source": [
    "## Zadanie 1 _(5pt)_\n",
    "\n",
    "Napisz funkcję, który wyświetla trójkąt Pascala o zadanej wysokości\n",
    "```\n",
    "                1\n",
    "              1   1\n",
    "            1   2   1\n",
    "          1   3   3   1\n",
    "        1   4   6   4   1\n",
    "      .....................\n",
    "```"
   ]
  },
  {
   "cell_type": "code",
   "execution_count": 50,
   "metadata": {},
   "outputs": [
    {
     "name": "stdout",
     "output_type": "stream",
     "text": [
      "                                                      1                                                       \n",
      "                                                     1 1                                                      \n",
      "                                                    1 2 1                                                     \n",
      "                                                   1 3 3 1                                                    \n",
      "                                                  1 4 6 4 1                                                   \n",
      "                                                1 5 10 10 5 1                                                 \n",
      "                                               1 6 15 20 15 6 1                                               \n",
      "                                             1 7 21 35 35 21 7 1                                              \n",
      "                                            1 8 28 56 70 56 28 8 1                                            \n",
      "                                         1 9 36 84 126 126 84 36 9 1                                          \n",
      "                                     1 10 45 120 210 252 210 120 45 10 1                                      \n",
      "                                   1 11 55 165 330 462 462 330 165 55 11 1                                    \n",
      "                                 1 12 66 220 495 792 924 792 495 220 66 12 1                                  \n",
      "                             1 13 78 286 715 1287 1716 1716 1287 715 286 78 13 1                              \n",
      "                          1 14 91 364 1001 2002 3003 3432 3003 2002 1001 364 91 14 1                          \n",
      "                      1 15 105 455 1365 3003 5005 6435 6435 5005 3003 1365 455 105 15 1                       \n",
      "                  1 16 120 560 1820 4368 8008 11440 12870 11440 8008 4368 1820 560 120 16 1                   \n",
      "              1 17 136 680 2380 6188 12376 19448 24310 24310 19448 12376 6188 2380 680 136 17 1               \n",
      "           1 18 153 816 3060 8568 18564 31824 43758 48620 43758 31824 18564 8568 3060 816 153 18 1            \n",
      "       1 19 171 969 3876 11628 27132 50388 75582 92378 92378 75582 50388 27132 11628 3876 969 171 19 1        \n",
      " 1 20 190 1140 4845 15504 38760 77520 125970 167960 184756 167960 125970 77520 38760 15504 4845 1140 190 20 1 \n"
     ]
    }
   ],
   "source": [
    "def factorial(x):\n",
    "    if(x==0):\n",
    "        return 1\n",
    "    res=1;\n",
    "    for i in range(1,x+1):\n",
    "        res = res * i\n",
    "    return res\n",
    "\n",
    "def pascal_triangle(n):\n",
    "    print(\"1\".center(110))\n",
    "    line = []\n",
    "    for i in range(1,n):\n",
    "        for j in range(i+1):\n",
    "            line.append(str(int(factorial(i)/(factorial(j)*factorial(i-j)))))\n",
    "        x = ' '.join((*line,))\n",
    "        print((str(x)).center(110))\n",
    "        line = [] \n",
    "    \n",
    "pascal_triangle(21)"
   ]
  },
  {
   "cell_type": "markdown",
   "metadata": {},
   "source": [
    "## Zadanie 2 _(5pt)_\n",
    "\n",
    "Napisz funkcję `primes(n)` zwracająca listę liczb pierwszych nie większych niż $n$ np.\n",
    "\n",
    "```\n",
    "In [ ]:   primes(6)\n",
    "Out [ ]: [2, 3, 5]\n",
    "```"
   ]
  },
  {
   "cell_type": "code",
   "execution_count": 74,
   "metadata": {},
   "outputs": [
    {
     "data": {
      "text/plain": [
       "[2, 3, 5]"
      ]
     },
     "execution_count": 74,
     "metadata": {},
     "output_type": "execute_result"
    }
   ],
   "source": [
    "def primes(n):\n",
    "    numbers = [0] + [0] + [1]*(n-1)\n",
    "    res = []\n",
    "    i = 2\n",
    "    while i*i <= n:\n",
    "        if numbers[i] == 1:\n",
    "            j=i+i\n",
    "            while j <= n:\n",
    "                numbers[j] = 0\n",
    "                j=j+i\n",
    "        i+=1\n",
    "    for i in range(2,n+1):\n",
    "        if numbers[i] == 1:\n",
    "            res.append(i)\n",
    "    return res\n",
    "           \n",
    "        \n",
    "primes(5)"
   ]
  },
  {
   "cell_type": "markdown",
   "metadata": {},
   "source": [
    "## Zadanie 3 _(5pt)_\n",
    "\n",
    "Napisz funkcje, która usuwa wszystkie powtarzające się elementy z listy (tak, że każdy element występuje tylko raz) np. z listy `[1,1,2,2,2,3,3,5,5,5,4,4,4,0]` dostajemy `[1,2,3,5,4,0]`."
   ]
  },
  {
   "cell_type": "code",
   "execution_count": 78,
   "metadata": {},
   "outputs": [
    {
     "data": {
      "text/plain": [
       "['1', '10', '2', '3', '5', '4', '0', '-1', '-4']"
      ]
     },
     "execution_count": 78,
     "metadata": {},
     "output_type": "execute_result"
    }
   ],
   "source": [
    "def del_dup(list):\n",
    "    mapa = {}\n",
    "    lista = []\n",
    "    for x in list:\n",
    "        mapa[str(x)]=1\n",
    "    \n",
    "    for k,v in mapa.items():\n",
    "        lista.append(k)\n",
    "    return lista\n",
    "           \n",
    "        \n",
    "del_dup([1,10,2,3,2,2,3,3,5,5,5,4,4,4,0,-1,-4,-4,-1])"
   ]
  },
  {
   "cell_type": "markdown",
   "metadata": {},
   "source": [
    "## Zadanie 4 _(10pt)_\n",
    "\n",
    "Napisz funkcję `prime_factors(n)`, która rozkłada $n$ na czynniki pierwsze i jako wynik wraca listę par $[(p_1,\\alpha_1), (p_2,\\alpha_2), \\ldots, (p_k, \\alpha_k)]$ taką, że $p_1^{\\alpha_1}p_2^{\\alpha_2}\\ldots p_k^{\\alpha_k}$.\n"
   ]
  },
  {
   "cell_type": "code",
   "execution_count": 92,
   "metadata": {},
   "outputs": [
    {
     "data": {
      "text/plain": [
       "[('3', 2), ('7', 1), ('31', 1)]"
      ]
     },
     "execution_count": 92,
     "metadata": {},
     "output_type": "execute_result"
    }
   ],
   "source": [
    "def prime_factors(n):\n",
    "    lista = []\n",
    "    mapa = {}\n",
    "    x=n\n",
    "    i=2\n",
    "    while x > 1 :\n",
    "        if x%i == 0 :\n",
    "            x/=i;\n",
    "            if str(i) in mapa :\n",
    "                mapa[str(i)]+=1\n",
    "            else :\n",
    "                mapa[str(i)]=1\n",
    "        else :\n",
    "            i+=1\n",
    "    for k,v in mapa.items():\n",
    "        lista.append((k,v))\n",
    "            \n",
    "    return lista\n",
    "           \n",
    "        \n",
    "prime_factors(1953)"
   ]
  },
  {
   "cell_type": "markdown",
   "metadata": {},
   "source": [
    "## Zadanie 5 _(10pt)_\n",
    "\n",
    "Napisz funkcję `fraczero(n)` liczącą silnie $n!$ dla $n$ od $0$ do $10000$ oraz jako wynik wraca liczbę zer na końcu $n!$."
   ]
  },
  {
   "cell_type": "code",
   "execution_count": 103,
   "metadata": {},
   "outputs": [
    {
     "data": {
      "text/plain": [
       "2"
      ]
     },
     "execution_count": 103,
     "metadata": {},
     "output_type": "execute_result"
    }
   ],
   "source": [
    "def fraczero(n):\n",
    "    res = 1\n",
    "    zeros = 0\n",
    "    dec = 10\n",
    "    for i in range(1,n+1):\n",
    "        res *= i\n",
    "    while res%dec==0 :\n",
    "        zeros+=1\n",
    "        dec*=10\n",
    "    return zeros\n",
    "\n",
    "\n",
    "fraczero(12)"
   ]
  },
  {
   "cell_type": "markdown",
   "metadata": {},
   "source": [
    "## Zadanie 6 _(10pt)_\n",
    "\n",
    "Napisz program, który generuje liczbę $20$ liczb losowych (rozkład jednostajny) od $1$ do $100$\n",
    "* Wyświetl listę wygenerowanych liczb\n",
    "* Wyświetl średnią\n",
    "* Wyświetl największą i najmniejszą wartość\n",
    "* Wyświetl drugą największą i drugą najmniejszą wartość na liście\n",
    "* Wyświetl ile jest liczb parzystych na liście\n",
    " "
   ]
  },
  {
   "cell_type": "code",
   "execution_count": 127,
   "metadata": {},
   "outputs": [
    {
     "name": "stdout",
     "output_type": "stream",
     "text": [
      "avg: 50.9\n",
      "max: 89\n",
      "min: 10\n",
      "second max: 84\n",
      "second min: 13\n",
      "liczb parzystych jest: 12\n",
      "[10, 13, 23, 27, 28, 34, 38, 44, 48, 49, 53, 54, 60, 61, 70, 77, 78, 78, 84, 89]\n"
     ]
    }
   ],
   "source": [
    "import random\n",
    "from statistics import mean \n",
    "x=0\n",
    "random.seed()\n",
    "lista = [random.randint(1,100) for i in range(20)]\n",
    "print(\"avg:\", mean(lista))\n",
    "print(\"max:\", max(lista))\n",
    "print(\"min:\", min(lista))\n",
    "lista.sort()\n",
    "print(\"second max:\", lista[-2])\n",
    "print(\"second min:\", lista[1])\n",
    "for i in lista:\n",
    "    if i%2==0:\n",
    "        x+=1;\n",
    "print(\"liczb parzystych jest:\", x)\n",
    "print(lista)"
   ]
  },
  {
   "cell_type": "markdown",
   "metadata": {},
   "source": [
    "## Zadanie 7 _(10pt)_\n",
    "\n",
    "Załóżmy, że mamy następującą listę: `L = ['aababacaa', 'cabaabcca', 'aaabbcbacb', 'acababbaab', ...]` wygenerowaną losowo tzn. lista zawiera losowe ciągi znaków o zadanej długości z liter `'a'`, `'b'` i `'c'`. Takie wzorce występują w wielu miejscach np. sekwencje DNA. Użytkownik zawiera swój (wzorzec) ciąg znaków z literami i pustymi miejscami oznaczonymi przez `'*'` np. `\"a**a******\"`. Wykorzystaj słownik z kluczami zawierającymi indeksy znaków różnych od `'*'` i wartościami liter z wzorca. Napisz program, który znajduje wszystkie sekwencje z listy, które pasuje do podanego wzorca."
   ]
  },
  {
   "cell_type": "code",
   "execution_count": 9,
   "metadata": {},
   "outputs": [
    {
     "data": {
      "text/plain": [
       "['aababacaa', 'abcab']"
      ]
     },
     "execution_count": 9,
     "metadata": {},
     "output_type": "execute_result"
    }
   ],
   "source": [
    "def pattern(L,myPattern):\n",
    "    dictionary = {}\n",
    "    res = []\n",
    "    j=0;\n",
    "    for i in (myPattern):\n",
    "        if i != '*':\n",
    "            dictionary[j] = i;\n",
    "        j+=1\n",
    "    for s in L:\n",
    "        good = 1\n",
    "        for k,v in dictionary.items():\n",
    "            if s[k] != v:\n",
    "                good = 0\n",
    "                break\n",
    "        if good == 1:\n",
    "            res.append(s)\n",
    "    return res\n",
    "    \n",
    "\n",
    "L = ['aababacaa', 'cabaabcca', 'aaabbcbacb', 'acababbaab', 'abcab']\n",
    "myPattern = 'a**a******'\n",
    "pattern(L,myPattern)"
   ]
  },
  {
   "cell_type": "markdown",
   "metadata": {},
   "source": [
    "## Zadanie 8 _(10pt)_\n",
    "\n",
    "Napisz program, który konwerteruje liczby rzymskie na liczby arabskie. Do zapisu liczb rzymskich używa\n",
    "się 7 liter: `I=1`, `V=5`, `X=10`, `L=50`, `C=100`, `D=500`, `M=1000`. Opis algorytmu zamiany z i na system rzymski można znaleźć np. [tutaj](http://www.algorytm.org/algorytmy-arytmetyczne/zamiana-z-i-na-system-rzymski.html)"
   ]
  },
  {
   "cell_type": "code",
   "execution_count": 6,
   "metadata": {},
   "outputs": [
    {
     "data": {
      "text/plain": [
       "1215"
      ]
     },
     "execution_count": 6,
     "metadata": {},
     "output_type": "execute_result"
    }
   ],
   "source": [
    "def reverse(s):\n",
    "    return s[::-1]\n",
    "\n",
    "def convert(s):\n",
    "    res = 0\n",
    "    di = {'I':1,'V':5,'X':10,'L':50,'C':100,'D':500,'M':1000}\n",
    "    last = 0\n",
    "    res = 0\n",
    "    r = reverse(s)\n",
    "    for ch in r:\n",
    "        if di[ch]>=last:\n",
    "            last=di[ch]\n",
    "            res+=di[ch]\n",
    "        else :\n",
    "            res-=di[ch]\n",
    "        \n",
    "    return res\n",
    "    \n",
    "\n",
    "s = \"MCCIXVI\"  \n",
    "convert(s)"
   ]
  },
  {
   "cell_type": "markdown",
   "metadata": {},
   "source": [
    "## Zadanie 9* _(5pt)_\n",
    "\n",
    "Napisz program kalkulator, który pobiera wprowadzone wartości oraz funkcje z klawiatury następnie podaje wynik. W przypadku błędnych danych zgłasza błąd.\n",
    "\n",
    "Przykładowa sesja:\n",
    "```\n",
    "    Kalkulator\n",
    "    [1]: 2+5*10\n",
    "        52\n",
    "    [2]: sin(0.5)+cos(0.3)\n",
    "        1.434762027729809\n",
    "    [3]: 2^100\n",
    "        1267650600228229401496703205376\n",
    "```\n",
    "\n",
    "Przykładowy kod pobierania danych od użytkownika:\n",
    "\n",
    "```\n",
    "    x = input('Podaj x = ')\n",
    "```"
   ]
  },
  {
   "cell_type": "code",
   "execution_count": 1,
   "metadata": {},
   "outputs": [
    {
     "name": "stdout",
     "output_type": "stream",
     "text": [
      "Enter your expression, if you want to quit enter exit:1/22\n",
      "0.045454545454545456\n",
      "Enter your expression, if you want to quit enter exit:exit\n"
     ]
    }
   ],
   "source": [
    "from math import *\n",
    "x = ''\n",
    "while x != 'exit':\n",
    "    x = input('Enter your expression, if you want to quit enter exit:')\n",
    "    if x == 'exit':\n",
    "        break\n",
    "    x = list(x)\n",
    "    for i in range(0,len(x)):\n",
    "        if x[i] == '^':\n",
    "            x[i] = '**'\n",
    "    try:\n",
    "        print(eval(\"\".join(x)))\n",
    "    except:\n",
    "        print(\"You tried dividing by zero\")"
   ]
  },
  {
   "cell_type": "markdown",
   "metadata": {},
   "source": [
    "\n",
    "## Zadanie 10* _(10pt)_\n",
    "\n",
    "Napisz program, który rysuje na ekranie w trybie znakowym wykres funkcji zmiennej $x$. Wskazówka: utwórz  ,,tablicę dwuwymiarową'' o wymiarach 80x24 i narysuj wykres w tej tablicy. Następnie wynik wyświetl na ekranie.\n",
    "\n",
    "```\n",
    "        Podaj funkcje f(x) = sin(x)\n",
    "        Podaj początek przedziału a = -pi\n",
    "        Podaj koniec przedziału b = pi\n",
    "                                                |\n",
    "                                                |\n",
    "                                                |              ***********\n",
    "                                                |           ***           ***\n",
    "                                                |         **                 **\n",
    "                                                |        *                     *\n",
    "                                                |      **                       **\n",
    "                                                |     *                           *\n",
    "                                                |   **                             **\n",
    "                                                |  *                                 *\n",
    "                                                | *                                   *\n",
    "                                                |*                                     *\n",
    "        ----------------------------------------|---------------------------------------\n",
    "          *                                   * |\n",
    "           *                                 *  |\n",
    "            **                             **   |\n",
    "              *                           *     |\n",
    "               **                       **      |\n",
    "                 *                     *        |\n",
    "                  **                 **         |\n",
    "                    ***           ***           |\n",
    "                       ***** *****              |\n",
    "                            *                   |\n",
    "                                                |\n",
    "```"
   ]
  },
  {
   "cell_type": "code",
   "execution_count": 5,
   "metadata": {
    "scrolled": false
   },
   "outputs": [
    {
     "name": "stdout",
     "output_type": "stream",
     "text": [
      "Podaj swoją funkcję:1/x\n",
      "Podaj początek przedziału a:-10\n",
      "Podaj koniec przedziału b:10\n",
      "You tried dividing by zero\n",
      "                                       |*                                       \n",
      "                                       |                                        \n",
      "                                       |                                        \n",
      "                                       |                                        \n",
      "                                       |                                        \n",
      "                                       | *                                      \n",
      "                                       |                                        \n",
      "                                       |  *                                     \n",
      "                                       |   *                                    \n",
      "                                       |    ***                                 \n",
      "                                       |       *********************************\n",
      "---------------------------------------|----------------------------------------\n",
      "********************************       |                                        \n",
      "                                ***    |                                        \n",
      "                                   *   |                                        \n",
      "                                    *  |                                        \n",
      "                                       |                                        \n",
      "                                     * |                                        \n",
      "                                       |                                        \n",
      "                                       |                                        \n",
      "                                       |                                        \n",
      "                                       |                                        \n",
      "                                      *|                                        \n",
      "                                       |                                        \n"
     ]
    }
   ],
   "source": [
    "from math import *\n",
    "\n",
    "def calculate_func(fx,val):\n",
    "    temp = fx.copy()\n",
    "    for i in range(0,len(temp)):\n",
    "        if temp[i] == 'x':\n",
    "            temp[i] = str(val)\n",
    "    temp = \"\".join(temp)\n",
    "    try:\n",
    "        return eval(temp)\n",
    "    except:\n",
    "        print(\"You tried dividing by zero\")\n",
    "        return 0\n",
    "\n",
    "\n",
    "def calculate_values(fx,xaxis):\n",
    "    li = [0] * 80\n",
    "    i=0\n",
    "    for val in xaxis:\n",
    "        if i != 39:\n",
    "            li[i] = calculate_func(fx,val)\n",
    "        i+=1\n",
    "    return li\n",
    "\n",
    "def calculate_x_axis(a,b):\n",
    "    li = [0] * 80\n",
    "    li[0] = a\n",
    "    li[78] = b\n",
    "    li[39] = 0\n",
    "    a = a/39\n",
    "    b = b/39\n",
    "    i=1\n",
    "    while i <= 38:\n",
    "        li[i] = li[i-1] - a\n",
    "        i+=1\n",
    "    i=77\n",
    "    while i >= 40:\n",
    "        li[i] = li[i+1] - b\n",
    "        i-=1\n",
    "    i=0\n",
    "    while i <=79:\n",
    "        li[i] = li[i]\n",
    "        i+=1\n",
    "    return li\n",
    "\n",
    "def calculate_y_axis(maxx):\n",
    "    li = [0] * 24\n",
    "    li[0] = maxx\n",
    "    li[22] = -maxx\n",
    "    li[11] = 0\n",
    "    a = maxx/11\n",
    "    b = (-maxx)/11\n",
    "    i=1\n",
    "    while i <= 10:\n",
    "        li[i] = li[i-1] - a\n",
    "        i+=1\n",
    "    i=21\n",
    "    while i >= 12:\n",
    "        li[i] = li[i+1] - b\n",
    "        i-=1\n",
    "    i=0\n",
    "    while i <= 22:\n",
    "        li[i] = li[i]\n",
    "        i+=1\n",
    "    return li\n",
    "\n",
    "def define_func_indexes(yaxis,values):\n",
    "    li = [0] * 80\n",
    "    litemp = []\n",
    "    i=0\n",
    "    while i <= 79:\n",
    "        maxy = abs(max(values,key=abs))\n",
    "        indx = 0\n",
    "        tempVal = values[i]\n",
    "        j=0\n",
    "        while j <= 22:\n",
    "            if (abs(abs(yaxis[j])-abs(tempVal)) < maxy):\n",
    "                if (tempVal < 0 and j > 11) or (tempVal > 0 and j < 11):\n",
    "                    maxy = abs(abs(yaxis[j])-abs(tempVal))\n",
    "                    index = j\n",
    "            j+=1\n",
    "        li[i] = index\n",
    "        i+=1     \n",
    "    return li\n",
    "\n",
    "\n",
    "table = [[\" \"] * 80 for i in range(24)]\n",
    "for i in range(0,80):\n",
    "    table[11][i] = \"-\"\n",
    "for i in range(0,24):\n",
    "    table[i][39] = \"|\"\n",
    "fx = input('Podaj swoją funkcję:')\n",
    "a = input('Podaj początek przedziału a:')\n",
    "b = input('Podaj koniec przedziału b:')\n",
    "\n",
    "fx = list(fx)\n",
    "for i in range(0,len(fx)):\n",
    "    if fx[i] == '^':\n",
    "        fx[i] = '**'\n",
    "xaxis = calculate_x_axis(eval(a),eval(b))\n",
    "values = calculate_values(fx,xaxis) \n",
    "yaxis = calculate_y_axis(abs(max(values,key=abs)))\n",
    "valIndexes = define_func_indexes(yaxis,values)\n",
    "#print(xaxis)\n",
    "#print(values)\n",
    "#print(yaxis)\n",
    "#print(valIndexes)\n",
    "i = 0\n",
    "while i <= 79:\n",
    "    if(i != 39):\n",
    "        table[valIndexes[i]][i] = '*'\n",
    "    i+=1\n",
    "for s in table:\n",
    "    print(\"\".join(s))\n",
    "      \n"
   ]
  },
  {
   "cell_type": "code",
   "execution_count": null,
   "metadata": {},
   "outputs": [],
   "source": []
  },
  {
   "cell_type": "code",
   "execution_count": null,
   "metadata": {},
   "outputs": [],
   "source": []
  }
 ],
 "metadata": {
  "kernelspec": {
   "display_name": "Python 3",
   "language": "python",
   "name": "python3"
  },
  "language_info": {
   "codemirror_mode": {
    "name": "ipython",
    "version": 3
   },
   "file_extension": ".py",
   "mimetype": "text/x-python",
   "name": "python",
   "nbconvert_exporter": "python",
   "pygments_lexer": "ipython3",
   "version": "3.6.9"
  }
 },
 "nbformat": 4,
 "nbformat_minor": 2
}
